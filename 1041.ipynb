{
 "cells": [
  {
   "cell_type": "markdown",
   "metadata": {},
   "source": [
    "# 1041 - Coordinates of a Point"
   ]
  },
  {
   "cell_type": "markdown",
   "metadata": {},
   "source": [
    "source : https://www.urionlinejudge.com.br/judge/en/problems/view/1041"
   ]
  },
  {
   "cell_type": "markdown",
   "metadata": {},
   "source": [
    "[input] memasukkan 2 angka tipe float sebagai titik yang akan diperiksa"
   ]
  },
  {
   "cell_type": "code",
   "execution_count": 1,
   "metadata": {},
   "outputs": [
    {
     "name": "stdout",
     "output_type": "stream",
     "text": [
      "4.5 -2.2\n"
     ]
    }
   ],
   "source": [
    "n1, n2 = input().split()\n",
    "n1, n2 = float(n1), float(n2)"
   ]
  },
  {
   "cell_type": "markdown",
   "metadata": {},
   "source": [
    "[proses] dalam menentukan quadran yang perlu diperhatikan adalah dari sumbu-sumbunya. Sb.XY (+)(+)Q1/(+)(-)Q4 (-)(+)Q2/(-)(-)Q3, dan 0,0 titik asal (origin). Tambahan jika berada di sb X (Y=0) dan sb Y (X=0)"
   ]
  },
  {
   "cell_type": "code",
   "execution_count": 2,
   "metadata": {},
   "outputs": [
    {
     "name": "stdout",
     "output_type": "stream",
     "text": [
      "Q4\n"
     ]
    }
   ],
   "source": [
    "if n1 > 0: #(+)\n",
    "\tif n2 > 0: #(+)\n",
    "\t\tprint(\"Q1\")\n",
    "\telif n2 < 0: #(-)\n",
    "\t\tprint(\"Q4\")\n",
    "\telse: #origin\n",
    "\t\tprint(\"Eixo X\")\n",
    "elif n1 < 0: #(-)\n",
    "\tif n2 > 0: #(+)\n",
    "\t\tprint(\"Q2\")\n",
    "\telif n2 < 0: #(-)\n",
    "\t\tprint(\"Q3\")\n",
    "\telse: #origin\n",
    "\t\tprint(\"Eixo X\")\n",
    "else:\n",
    "\tif n2 != 0: #origin\n",
    "\t\tprint(\"Eixo Y\")\n",
    "\telse: #both origin\n",
    "\t\tprint(\"Origem\")"
   ]
  },
  {
   "cell_type": "markdown",
   "metadata": {},
   "source": [
    "[output] seperti di atas"
   ]
  }
 ],
 "metadata": {
  "kernelspec": {
   "display_name": "Python 3",
   "language": "python",
   "name": "python3"
  },
  "language_info": {
   "codemirror_mode": {
    "name": "ipython",
    "version": 3
   },
   "file_extension": ".py",
   "mimetype": "text/x-python",
   "name": "python",
   "nbconvert_exporter": "python",
   "pygments_lexer": "ipython3",
   "version": "3.7.6"
  }
 },
 "nbformat": 4,
 "nbformat_minor": 4
}
