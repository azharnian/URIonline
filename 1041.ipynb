{
 "cells": [
  {
   "cell_type": "markdown",
   "metadata": {},
   "source": [
    "# 1041 - Coordinates of a Point"
   ]
  },
  {
   "cell_type": "markdown",
   "metadata": {},
   "source": [
    "source : https://www.urionlinejudge.com.br/judge/en/problems/view/1041"
   ]
  },
  {
   "cell_type": "markdown",
   "metadata": {},
   "source": [
    "[input] memasukkan 2 angka tipe float sebagai titik yang akan diperiksa"
   ]
  },
  {
   "cell_type": "code",
   "execution_count": 1,
   "metadata": {},
   "outputs": [
    {
     "name": "stdout",
     "output_type": "stream",
     "text": [
      "4.5 -2.2\n"
     ]
    }
   ],
   "source": [
    "n1, n2 = input().split()\n",
    "n1, n2 = float(n1), float(n2)"
   ]
  },
  {
   "cell_type": "markdown",
   "metadata": {},
   "source": [
    "[proses] dalam menentukan quadran yang perlu diperhatikan adalah dari sumbu-sumbunya. Sb.XY (+)(+)Q1/(+)(-)Q4 (-)(+)Q2/(-)(-)Q3, dan 0,0 titik asal (origin). Tambahan jika memotong sb. "
   ]
  },
  {
   "cell_type": "code",
   "execution_count": null,
   "metadata": {},
   "outputs": [],
   "source": []
  }
 ],
 "metadata": {
  "kernelspec": {
   "display_name": "Python 3",
   "language": "python",
   "name": "python3"
  },
  "language_info": {
   "codemirror_mode": {
    "name": "ipython",
    "version": 3
   },
   "file_extension": ".py",
   "mimetype": "text/x-python",
   "name": "python",
   "nbconvert_exporter": "python",
   "pygments_lexer": "ipython3",
   "version": "3.7.6"
  }
 },
 "nbformat": 4,
 "nbformat_minor": 4
}
