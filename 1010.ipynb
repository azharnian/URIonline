{
 "cells": [
  {
   "cell_type": "markdown",
   "metadata": {},
   "source": [
    "# 1010 - Simple Calculate"
   ]
  },
  {
   "cell_type": "markdown",
   "metadata": {},
   "source": [
    "source : https://www.urionlinejudge.com.br/judge/en/problems/view/1010"
   ]
  },
  {
   "cell_type": "markdown",
   "metadata": {},
   "source": [
    "[input] 2 baris nilai masing-masing menerima 3 variable secara sebaris, jadi totalnya ada 6 baris. Gunakan fungsi input() dan split() untuk mengurai data varible. Urutannya Code, Jumlah, dan Harga barang"
   ]
  },
  {
   "cell_type": "code",
   "execution_count": 3,
   "metadata": {},
   "outputs": [
    {
     "name": "stdout",
     "output_type": "stream",
     "text": [
      "12 1 5.30\n",
      "16 2 5.10\n"
     ]
    }
   ],
   "source": [
    "codeP1, numberP1, priceP1 = input().split()\n",
    "codeP2, numberP2, priceP2 = input().split()"
   ]
  },
  {
   "cell_type": "markdown",
   "metadata": {},
   "source": [
    "[input] karena secara default fungsi input menyimpan data dalam tipe \"string\", maka semua variable harus di convert/casting menjadi integer dengan fungsi int() dan tiap harga menjadi float dengan fungsi float()"
   ]
  },
  {
   "cell_type": "code",
   "execution_count": 4,
   "metadata": {},
   "outputs": [],
   "source": [
    "codeP1, numberP1, priceP1 = int(codeP1), int(numberP1), float(priceP1)\n",
    "codeP2, numberP2, priceP2 = int(codeP2), int(numberP2), float(priceP2)"
   ]
  },
  {
   "cell_type": "markdown",
   "metadata": {},
   "source": [
    "[proses] sesuai deskripsi soal \"calculate and show the amount to be paid\" yang berarti setiap jumlah dan harga barang diakumulasikan kemudian dijumlahkan"
   ]
  },
  {
   "cell_type": "code",
   "execution_count": 5,
   "metadata": {},
   "outputs": [],
   "source": [
    "result = (numberP1*priceP1)+(numberP2*priceP2)"
   ]
  },
  {
   "cell_type": "markdown",
   "metadata": {},
   "source": [
    "[output] sesuaikan tampilan output seperti -> VALOR A PAGAR: R$ 15.50"
   ]
  },
  {
   "cell_type": "code",
   "execution_count": 6,
   "metadata": {},
   "outputs": [
    {
     "name": "stdout",
     "output_type": "stream",
     "text": [
      "VALOR A PAGAR: R$ 15.50\n"
     ]
    }
   ],
   "source": [
    "print(\"VALOR A PAGAR: R$ %.2f\" % (result))"
   ]
  },
  {
   "cell_type": "markdown",
   "metadata": {},
   "source": [
    "-done- :)"
   ]
  }
 ],
 "metadata": {
  "kernelspec": {
   "display_name": "Python 3",
   "language": "python",
   "name": "python3"
  },
  "language_info": {
   "codemirror_mode": {
    "name": "ipython",
    "version": 3
   },
   "file_extension": ".py",
   "mimetype": "text/x-python",
   "name": "python",
   "nbconvert_exporter": "python",
   "pygments_lexer": "ipython3",
   "version": "3.7.6"
  }
 },
 "nbformat": 4,
 "nbformat_minor": 4
}
