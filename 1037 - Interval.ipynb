{
 "cells": [
  {
   "cell_type": "markdown",
   "metadata": {},
   "source": [
    "# 1037 URI Online"
   ]
  },
  {
   "cell_type": "markdown",
   "metadata": {},
   "source": [
    "[INPUT] masukan berupa angka tipe float"
   ]
  },
  {
   "cell_type": "code",
   "execution_count": 4,
   "metadata": {},
   "outputs": [
    {
     "name": "stdout",
     "output_type": "stream",
     "text": [
      "25.01\n"
     ]
    }
   ],
   "source": [
    "num = float(input())"
   ]
  },
  {
   "cell_type": "markdown",
   "metadata": {},
   "source": [
    "[PROSES]\n",
    "menentukan kelompok angka dari input. Kasusnya : [0,25], (25,50], (50,75], (75,100], dan jika tidak ada di dalam kelompok angkanya nanti outputnya  “Fora de intervalo”"
   ]
  },
  {
   "cell_type": "code",
   "execution_count": 6,
   "metadata": {},
   "outputs": [
    {
     "name": "stdout",
     "output_type": "stream",
     "text": [
      "Intervalo (25,50]\n"
     ]
    }
   ],
   "source": [
    "if num < 0:\n",
    "\tprint(\"Fora de intervalo\")\n",
    "elif num <=25:\n",
    "\tprint(\"Intervalo [0,25]\")\n",
    "elif num <=50:\n",
    "\tprint(\"Intervalo (25,50]\")\n",
    "elif num <=75:\n",
    "\tprint(\"Intervalo (50,75]\")\n",
    "elif num <=100:\n",
    "\tprint(\"Intervalo (75,100]\")\n",
    "else :\n",
    "\tprint(\"Fora de intervalo\")"
   ]
  },
  {
   "cell_type": "markdown",
   "metadata": {},
   "source": [
    "[OUTPUT] seperti di atas :)"
   ]
  },
  {
   "cell_type": "code",
   "execution_count": null,
   "metadata": {},
   "outputs": [],
   "source": []
  }
 ],
 "metadata": {
  "kernelspec": {
   "display_name": "Python 3",
   "language": "python",
   "name": "python3"
  },
  "language_info": {
   "codemirror_mode": {
    "name": "ipython",
    "version": 3
   },
   "file_extension": ".py",
   "mimetype": "text/x-python",
   "name": "python",
   "nbconvert_exporter": "python",
   "pygments_lexer": "ipython3",
   "version": "3.7.6"
  }
 },
 "nbformat": 4,
 "nbformat_minor": 4
}
