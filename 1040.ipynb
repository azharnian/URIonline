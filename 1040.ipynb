{
 "cells": [
  {
   "cell_type": "markdown",
   "metadata": {},
   "source": [
    "# 1040 - Average 3"
   ]
  },
  {
   "cell_type": "markdown",
   "metadata": {},
   "source": [
    "source : https://www.urionlinejudge.com.br/judge/en/problems/view/1040"
   ]
  },
  {
   "cell_type": "markdown",
   "metadata": {},
   "source": [
    "[input] menerima 4 masukan angka tipe float"
   ]
  },
  {
   "cell_type": "code",
   "execution_count": 1,
   "metadata": {},
   "outputs": [
    {
     "name": "stdout",
     "output_type": "stream",
     "text": [
      "2.0 4.0 7.5 8.0\n"
     ]
    }
   ],
   "source": [
    "n1, n2, n3, n4 = input().split()\n",
    "n1, n2, n3, n4 = float(n1), float(n2), float(n3), float(n4)"
   ]
  },
  {
   "cell_type": "markdown",
   "metadata": {},
   "source": [
    "[proses] angka dicari rata-ratanya dengan bobot : \"Calculate the average with weights 2, 3, 4 e 1 respectively\""
   ]
  },
  {
   "cell_type": "code",
   "execution_count": 2,
   "metadata": {},
   "outputs": [],
   "source": [
    "avg = (2*n1+3*n2+4*n3+1*n4)/10"
   ]
  },
  {
   "cell_type": "markdown",
   "metadata": {},
   "source": [
    "[proses] decision dengan menggunakan \"if\" sesuai kasus yang ada seperti dalam deskripsi soal"
   ]
  },
  {
   "cell_type": "code",
   "execution_count": 3,
   "metadata": {},
   "outputs": [
    {
     "name": "stdout",
     "output_type": "stream",
     "text": [
      "6.4\n",
      "Media: 5.4\n",
      "Aluno em exame.\n",
      "Nota do exame: 6.4\n",
      "Aluno aprovado.\n",
      "Media final: 5.9\n"
     ]
    }
   ],
   "source": [
    "if avg >= 7.0 :\n",
    "\tprint(\"Media: %.1f\" % (avg))\n",
    "\tprint(\"Aluno aprovado.\")\n",
    "elif avg >= 5.0:\n",
    "\tn5 = float(input())\n",
    "\tprint(\"Media: %.1f\" % (avg))\n",
    "\tprint(\"Aluno em exame.\")\n",
    "\tprint(\"Nota do exame: %.1f\" % (n5))\n",
    "\tprint(\"Aluno aprovado.\")\n",
    "\tavg = (avg+n5)/2\n",
    "\tprint(\"Media final: %.1f\" % (avg))\n",
    "else: \n",
    "\tprint(\"Media: %.1f\" % (avg))\n",
    "\tprint(\"Aluno reprovado.\")"
   ]
  },
  {
   "cell_type": "markdown",
   "metadata": {},
   "source": [
    "[output] sesuaikan dengan permintaan soal seperti di atas."
   ]
  }
 ],
 "metadata": {
  "kernelspec": {
   "display_name": "Python 3",
   "language": "python",
   "name": "python3"
  },
  "language_info": {
   "codemirror_mode": {
    "name": "ipython",
    "version": 3
   },
   "file_extension": ".py",
   "mimetype": "text/x-python",
   "name": "python",
   "nbconvert_exporter": "python",
   "pygments_lexer": "ipython3",
   "version": "3.7.6"
  }
 },
 "nbformat": 4,
 "nbformat_minor": 4
}
